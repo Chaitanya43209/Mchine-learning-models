{
 "cells": [
  {
   "cell_type": "code",
   "execution_count": 1,
   "id": "9aabe753",
   "metadata": {},
   "outputs": [],
   "source": [
    "import pandas as pd\n",
    "import numpy as np\n",
    "import matplotlib.pyplot as plt\n",
    "import seaborn as sns\n",
    "import scipy.stats as stats"
   ]
  },
  {
   "cell_type": "code",
   "execution_count": 2,
   "id": "e864e4a3",
   "metadata": {},
   "outputs": [
    {
     "name": "stdout",
     "output_type": "stream",
     "text": [
      "    product_id product_name    category  units_sold sales_date\n",
      "0            1    Product1         Home          25 2023-01-01\n",
      "1            2    Product2       Sports          15 2023-01-02\n",
      "2            3    Product3   Electronic          17 2023-01-03\n",
      "3            4    Product4         Home          19 2023-01-04\n",
      "4            5    Product5         Home          21 2023-01-05\n",
      "5            6    Product6       Sports          17 2023-01-06\n",
      "6            7    Product7   Electronic          19 2023-01-07\n",
      "7            8    Product8   Electronic          16 2023-01-08\n",
      "8            9    Product9         Home          21 2023-01-09\n",
      "9           10   Product10     Clothing          21 2023-01-10\n",
      "10          11   Product11         Home          17 2023-01-11\n",
      "11          12   Product12         Home          22 2023-01-12\n",
      "12          13   Product13         Home          14 2023-01-13\n",
      "13          14   Product14         Home          17 2023-01-14\n",
      "14          15   Product15       Sports          17 2023-01-15\n",
      "15          16   Product16   Electronic          21 2023-01-16\n",
      "16          17   Product17       Sports          21 2023-01-17\n",
      "17          18   Product18       Sports          13 2023-01-18\n",
      "18          19   Product19       Sports          18 2023-01-19\n",
      "19          20   Product20         Home          25 2023-01-20\n"
     ]
    }
   ],
   "source": [
    "np.random.seed(42)\n",
    "\n",
    "data = {\n",
    "    'product_id' : range(1, 21),\n",
    "    'product_name' : [f'Product{i} ' for i in range(1, 21)],\n",
    "    'category' : np.random.choice(['Electronic', 'Clothing', 'Home', 'Sports'], 20),\n",
    "    'units_sold' : np.random.poisson(lam=20, size=20),\n",
    "    'sales_date' : pd.date_range(start = '2023-01-01', periods=20, freq='D')\n",
    "    }\n",
    "\n",
    "sales_data = pd.DataFrame(data)\n",
    "\n",
    "print(sales_data)\n"
   ]
  },
  {
   "cell_type": "code",
   "execution_count": 3,
   "id": "784d2e86",
   "metadata": {},
   "outputs": [
    {
     "data": {
      "text/plain": [
       "'c:\\\\Users\\\\CHAITANYA\\\\Documents\\\\MLmodelsall'"
      ]
     },
     "execution_count": 3,
     "metadata": {},
     "output_type": "execute_result"
    }
   ],
   "source": [
    "sales_data.to_csv('sales_data.csv', index=False)\n",
    "\n",
    "import os\n",
    "os.getcwd()"
   ]
  },
  {
   "cell_type": "code",
   "execution_count": 4,
   "id": "d57f1079",
   "metadata": {},
   "outputs": [
    {
     "name": "stdout",
     "output_type": "stream",
     "text": [
      "\n",
      "Descriptive Statistic for Units Sold:\n",
      "count    20.000000\n",
      "mean     18.800000\n",
      "std       3.302312\n",
      "min      13.000000\n",
      "25%      17.000000\n",
      "50%      18.500000\n",
      "75%      21.000000\n",
      "max      25.000000\n",
      "Name: units_sold, dtype: float64\n",
      "\n",
      " Statistical Analysis:\n",
      "Mean Units Sold: 18.8\n",
      "Median Units Sold: 18.5\n",
      "Mode Units Sold: 17\n",
      "Variance Units Sold: 10.90526315789474\n",
      "Standard Deviation Units Sold: 3.3023117899275864\n",
      "\n",
      "Category Statastics\n",
      "     category  sum       mean       std\n",
      "0    Clothing   21  21.000000       NaN\n",
      "1  Electronic   73  18.250000  2.217356\n",
      "2        Home  181  20.111111  3.723051\n",
      "3      Sports  101  16.833333  2.714160\n"
     ]
    }
   ],
   "source": [
    "descriptive_stats = sales_data['units_sold'].describe()\n",
    "\n",
    "print(\"\\nDescriptive Statistic for Units Sold:\")\n",
    "print(descriptive_stats)\n",
    "\n",
    "mean_sales = sales_data['units_sold'].mean()\n",
    "median_sales = sales_data['units_sold'].median()\n",
    "mode_sales = sales_data['units_sold'].mode()[0]\n",
    "varince_sales = sales_data['units_sold'].var()\n",
    "std_deviation_sales = sales_data['units_sold'].std()\n",
    "\n",
    "category_stats = sales_data.groupby('category')['units_sold'].agg(['sum','mean','std']).reset_index()\n",
    "\n",
    "print(\"\\n Statistical Analysis:\")\n",
    "print(f\"Mean Units Sold: {mean_sales}\")\n",
    "print(f\"Median Units Sold: {median_sales}\")\n",
    "print(f\"Mode Units Sold: {mode_sales}\")\n",
    "print(f\"Variance Units Sold: {varince_sales}\")\n",
    "print(f\"Standard Deviation Units Sold: {std_deviation_sales}\")\n",
    "print(\"\\nCategory Statastics\")\n",
    "print(category_stats)"
   ]
  },
  {
   "cell_type": "code",
   "execution_count": 5,
   "id": "e22d7090",
   "metadata": {},
   "outputs": [
    {
     "name": "stdout",
     "output_type": "stream",
     "text": [
      "\n",
      "Confidence Interval for Mean of Units Sold\n",
      "(np.float64(17.254470507823573), np.float64(20.34552949217643))\n"
     ]
    }
   ],
   "source": [
    "# Inferential Statistics\n",
    "\n",
    "confidence_level = 0.95\n",
    "\n",
    "degrees_of_freedom = len(sales_data['units_sold']) - 1\n",
    "sample_mean = mean_sales\n",
    "sample_standard_error = std_deviation_sales / np.sqrt(len(sales_data['units_sold']))\n",
    "\n",
    "# tscore\n",
    "\n",
    "t_score = stats.t.ppf((1 + confidence_level) / 2, degrees_of_freedom)\n",
    "margin_of_error = t_score * sample_standard_error\n",
    "\n",
    "confidence_inerval = (sample_mean - margin_of_error, sample_mean + margin_of_error)\n",
    "print(\"\\nConfidence Interval for Mean of Units Sold\")\n",
    "print(confidence_inerval)"
   ]
  },
  {
   "cell_type": "code",
   "execution_count": 6,
   "id": "be412507",
   "metadata": {},
   "outputs": [
    {
     "name": "stdout",
     "output_type": "stream",
     "text": [
      "\n",
      " Hypothesis Testing(t-test):\n",
      "T-statistic: -1.6250928099424466, P-value: 0.12061572226781002\n",
      "Fail to reject the null hypothesis: The mean units sold is not different from 20\n"
     ]
    }
   ],
   "source": [
    "t_statstic, p_value = stats.ttest_1samp(sales_data['units_sold'], 20)\n",
    "\n",
    "print(\"\\n Hypothesis Testing(t-test):\")\n",
    "print(f\"T-statistic: {t_statstic}, P-value: {p_value}\")\n",
    "\n",
    "if p_value < 0.05:\n",
    "    print(\"Reject the null hypothesis: The mean number of units sold is different from 20\")\n",
    "else:\n",
    "    print(\"Fail to reject the null hypothesis: The mean units sold is not different from 20\")\n",
    "    \n",
    "    "
   ]
  },
  {
   "cell_type": "code",
   "execution_count": 7,
   "id": "f14afd37",
   "metadata": {},
   "outputs": [
    {
     "data": {
      "image/png": "[encoded data removed]",
      "text/plain": [
       "<Figure size 1000x600 with 1 Axes>"
      ]
     },
     "metadata": {},
     "output_type": "display_data"
    }
   ],
   "source": [
    "# visualizations\n",
    "\n",
    "sns.set_style('darkgrid')\n",
    "\n",
    "# plot distribution of units sold\n",
    "\n",
    "plt.figure(figsize=(10, 6))\n",
    "sns.histplot(sales_data['units_sold'], bins=10, kde=True)\n",
    "plt.title('Distribution of Units Sold')\n",
    "plt.xlabel('Units Sold')\n",
    "plt.ylabel('Frequency')\n",
    "plt.axhline(mean_sales, color='red', label='Mean',linestyle='--')\n",
    "plt.axvline(mode_sales, color='blue', label='Mode',linestyle='--')\n",
    "plt.axvline(median_sales, color='blue', label='Median',linestyle='--')\n",
    "plt.legend()\n",
    "plt.show()\n"
   ]
  },
  {
   "cell_type": "code",
   "execution_count": 8,
   "id": "02ee442f",
   "metadata": {},
   "outputs": [
    {
     "data": {
      "image/png": "[encoded data removed]",
      "text/plain": [
       "<Figure size 1000x600 with 1 Axes>"
      ]
     },
     "metadata": {},
     "output_type": "display_data"
    }
   ],
   "source": [
    "plt.figure(figsize=(10, 6))\n",
    "sns.boxplot(x='category', y='units_sold', data=sales_data)\n",
    "plt.title('Boxplot of Units Sold by Category')\n",
    "plt.xlabel('Category')\n",
    "plt.ylabel('Units Sold')\n",
    "plt.show()"
   ]
  },
  {
   "cell_type": "code",
   "execution_count": 9,
   "id": "e357038e",
   "metadata": {},
   "outputs": [
    {
     "name": "stdout",
     "output_type": "stream",
     "text": [
      "Index(['category', 'sum', 'mean', 'std'], dtype='object')\n"
     ]
    }
   ],
   "source": [
    "print(category_stats.columns)\n"
   ]
  },
  {
   "cell_type": "code",
   "execution_count": 10,
   "id": "f74274dd",
   "metadata": {},
   "outputs": [
    {
     "ename": "KeyError",
     "evalue": "'Column not found: Units Sold'",
     "output_type": "error",
     "traceback": [
      "\u001b[1;31m---------------------------------------------------------------------------\u001b[0m",
      "\u001b[1;31mKeyError\u001b[0m                                  Traceback (most recent call last)",
      "Cell \u001b[1;32mIn[10], line 1\u001b[0m\n\u001b[1;32m----> 1\u001b[0m category_stats \u001b[38;5;241m=\u001b[39m sales_data\u001b[38;5;241m.\u001b[39mgroupby(\u001b[38;5;124m'\u001b[39m\u001b[38;5;124mcategory\u001b[39m\u001b[38;5;124m'\u001b[39m)[\u001b[38;5;124m'\u001b[39m\u001b[38;5;124mUnits Sold\u001b[39m\u001b[38;5;124m'\u001b[39m]\u001b[38;5;241m.\u001b[39msum()\u001b[38;5;241m.\u001b[39mreset_index()\n\u001b[0;32m      3\u001b[0m \u001b[38;5;66;03m# ✅ Step 2: Plot\u001b[39;00m\n\u001b[0;32m      4\u001b[0m plt\u001b[38;5;241m.\u001b[39mfigure(figsize\u001b[38;5;241m=\u001b[39m(\u001b[38;5;241m10\u001b[39m, \u001b[38;5;241m6\u001b[39m))\n",
      "File \u001b[1;32mc:\\Users\\CHAITANYA\\anaconda3\\Lib\\site-packages\\pandas\\core\\groupby\\generic.py:1951\u001b[0m, in \u001b[0;36mDataFrameGroupBy.__getitem__\u001b[1;34m(self, key)\u001b[0m\n\u001b[0;32m   1944\u001b[0m \u001b[38;5;28;01mif\u001b[39;00m \u001b[38;5;28misinstance\u001b[39m(key, \u001b[38;5;28mtuple\u001b[39m) \u001b[38;5;129;01mand\u001b[39;00m \u001b[38;5;28mlen\u001b[39m(key) \u001b[38;5;241m>\u001b[39m \u001b[38;5;241m1\u001b[39m:\n\u001b[0;32m   1945\u001b[0m     \u001b[38;5;66;03m# if len == 1, then it becomes a SeriesGroupBy and this is actually\u001b[39;00m\n\u001b[0;32m   1946\u001b[0m     \u001b[38;5;66;03m# valid syntax, so don't raise\u001b[39;00m\n\u001b[0;32m   1947\u001b[0m     \u001b[38;5;28;01mraise\u001b[39;00m \u001b[38;5;167;01mValueError\u001b[39;00m(\n\u001b[0;32m   1948\u001b[0m         \u001b[38;5;124m\"\u001b[39m\u001b[38;5;124mCannot subset columns with a tuple with more than one element. \u001b[39m\u001b[38;5;124m\"\u001b[39m\n\u001b[0;32m   1949\u001b[0m         \u001b[38;5;124m\"\u001b[39m\u001b[38;5;124mUse a list instead.\u001b[39m\u001b[38;5;124m\"\u001b[39m\n\u001b[0;32m   1950\u001b[0m     )\n\u001b[1;32m-> 1951\u001b[0m \u001b[38;5;28;01mreturn\u001b[39;00m \u001b[38;5;28msuper\u001b[39m()\u001b[38;5;241m.\u001b[39m\u001b[38;5;21m__getitem__\u001b[39m(key)\n",
      "File \u001b[1;32mc:\\Users\\CHAITANYA\\anaconda3\\Lib\\site-packages\\pandas\\core\\base.py:244\u001b[0m, in \u001b[0;36mSelectionMixin.__getitem__\u001b[1;34m(self, key)\u001b[0m\n\u001b[0;32m    242\u001b[0m \u001b[38;5;28;01melse\u001b[39;00m:\n\u001b[0;32m    243\u001b[0m     \u001b[38;5;28;01mif\u001b[39;00m key \u001b[38;5;129;01mnot\u001b[39;00m \u001b[38;5;129;01min\u001b[39;00m \u001b[38;5;28mself\u001b[39m\u001b[38;5;241m.\u001b[39mobj:\n\u001b[1;32m--> 244\u001b[0m         \u001b[38;5;28;01mraise\u001b[39;00m \u001b[38;5;167;01mKeyError\u001b[39;00m(\u001b[38;5;124mf\u001b[39m\u001b[38;5;124m\"\u001b[39m\u001b[38;5;124mColumn not found: \u001b[39m\u001b[38;5;132;01m{\u001b[39;00mkey\u001b[38;5;132;01m}\u001b[39;00m\u001b[38;5;124m\"\u001b[39m)\n\u001b[0;32m    245\u001b[0m     ndim \u001b[38;5;241m=\u001b[39m \u001b[38;5;28mself\u001b[39m\u001b[38;5;241m.\u001b[39mobj[key]\u001b[38;5;241m.\u001b[39mndim\n\u001b[0;32m    246\u001b[0m     \u001b[38;5;28;01mreturn\u001b[39;00m \u001b[38;5;28mself\u001b[39m\u001b[38;5;241m.\u001b[39m_gotitem(key, ndim\u001b[38;5;241m=\u001b[39mndim)\n",
      "\u001b[1;31mKeyError\u001b[0m: 'Column not found: Units Sold'"
     ]
    }
   ],
   "source": [
    "category_stats = sales_data.groupby('category')['Units Sold'].sum().reset_index()\n",
    "\n",
    "# ✅ Step 2: Plot\n",
    "plt.figure(figsize=(10, 6))\n",
    "sns.barplot(x='Category', y='Units Sold', data=category_stats, palette='viridis')\n",
    "\n",
    "plt.title('Total Units Sold by Category', fontsize=14, fontweight='bold')\n",
    "plt.xlabel('Category', fontsize=12)\n",
    "plt.ylabel('Total Units Sold', fontsize=12)\n",
    "plt.xticks(rotation=45)\n",
    "plt.tight_layout()\n",
    "plt.show()\n"
   ]
  },
  {
   "cell_type": "code",
   "execution_count": null,
   "id": "0f385709",
   "metadata": {},
   "outputs": [],
   "source": []
  },
  {
   "cell_type": "code",
   "execution_count": null,
   "id": "5373607b",
   "metadata": {},
   "outputs": [],
   "source": []
  },
  {
   "cell_type": "code",
   "execution_count": null,
   "id": "3972dfb8",
   "metadata": {},
   "outputs": [],
   "source": []
  },
  {
   "cell_type": "code",
   "execution_count": null,
   "id": "017284af",
   "metadata": {},
   "outputs": [],
   "source": []
  },
  {
   "cell_type": "code",
   "execution_count": null,
   "id": "cbc8b224",
   "metadata": {},
   "outputs": [],
   "source": []
  },
  {
   "cell_type": "code",
   "execution_count": null,
   "id": "24c3b08c",
   "metadata": {},
   "outputs": [],
   "source": []
  },
  {
   "cell_type": "code",
   "execution_count": null,
   "id": "ee4d9a31",
   "metadata": {},
   "outputs": [],
   "source": []
  },
  {
   "cell_type": "code",
   "execution_count": null,
   "id": "ca8ea43a",
   "metadata": {},
   "outputs": [],
   "source": []
  },
  {
   "cell_type": "code",
   "execution_count": null,
   "id": "e80a3da8",
   "metadata": {},
   "outputs": [],
   "source": []
  },
  {
   "cell_type": "code",
   "execution_count": null,
   "id": "6d1c4c66",
   "metadata": {},
   "outputs": [],
   "source": []
  },
  {
   "cell_type": "code",
   "execution_count": null,
   "id": "d7c693e3",
   "metadata": {},
   "outputs": [],
   "source": []
  },
  {
   "cell_type": "code",
   "execution_count": null,
   "id": "114964a7",
   "metadata": {},
   "outputs": [],
   "source": []
  },
  {
   "cell_type": "code",
   "execution_count": null,
   "id": "371c2924",
   "metadata": {},
   "outputs": [],
   "source": []
  },
  {
   "cell_type": "code",
   "execution_count": null,
   "id": "3e05f830",
   "metadata": {},
   "outputs": [],
   "source": []
  },
  {
   "cell_type": "code",
   "execution_count": null,
   "id": "2d19f46a",
   "metadata": {},
   "outputs": [],
   "source": []
  },
  {
   "cell_type": "code",
   "execution_count": null,
   "id": "805ba28b",
   "metadata": {},
   "outputs": [],
   "source": []
  },
  {
   "cell_type": "code",
   "execution_count": null,
   "id": "fb29b1c6",
   "metadata": {},
   "outputs": [],
   "source": []
  },
  {
   "cell_type": "code",
   "execution_count": null,
   "id": "83ab4098",
   "metadata": {},
   "outputs": [],
   "source": []
  },
  {
   "cell_type": "code",
   "execution_count": null,
   "id": "0421d3c9",
   "metadata": {},
   "outputs": [],
   "source": []
  },
  {
   "cell_type": "code",
   "execution_count": null,
   "id": "f1771442",
   "metadata": {},
   "outputs": [],
   "source": []
  },
  {
   "cell_type": "code",
   "execution_count": null,
   "id": "e6bc757e",
   "metadata": {},
   "outputs": [],
   "source": []
  },
  {
   "cell_type": "code",
   "execution_count": null,
   "id": "d2a4f94d",
   "metadata": {},
   "outputs": [],
   "source": []
  },
  {
   "cell_type": "code",
   "execution_count": null,
   "id": "280349f1",
   "metadata": {},
   "outputs": [],
   "source": []
  },
  {
   "cell_type": "code",
   "execution_count": null,
   "id": "400cbbff",
   "metadata": {},
   "outputs": [],
   "source": []
  },
  {
   "cell_type": "code",
   "execution_count": null,
   "id": "0670d6ae",
   "metadata": {},
   "outputs": [],
   "source": []
  }
 ],
 "metadata": {
  "kernelspec": {
   "display_name": "base",
   "language": "python",
   "name": "python3"
  },
  "language_info": {
   "codemirror_mode": {
    "name": "ipython",
    "version": 3
   },
   "file_extension": ".py",
   "mimetype": "text/x-python",
   "name": "python",
   "nbconvert_exporter": "python",
   "pygments_lexer": "ipython3",
   "version": "3.13.5"
  }
 },
 "nbformat": 4,
 "nbformat_minor": 5
}
